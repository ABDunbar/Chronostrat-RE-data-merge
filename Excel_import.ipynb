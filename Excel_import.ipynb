{
 "cells": [
  {
   "cell_type": "markdown",
   "metadata": {},
   "source": [
    "# Combining two Excel sheets of data\n",
    "\n",
    "## Combining Chronostratigraphic data into hydrocarbon source well data"
   ]
  },
  {
   "cell_type": "markdown",
   "metadata": {},
   "source": [
    "###### Import modules and Excel file with multiple sheets"
   ]
  },
  {
   "cell_type": "code",
   "execution_count": 1,
   "metadata": {},
   "outputs": [],
   "source": [
    "import pandas as pd"
   ]
  },
  {
   "cell_type": "code",
   "execution_count": 2,
   "metadata": {},
   "outputs": [],
   "source": [
    "file = 'BB_20190227_RE_data_chronostrat_combine_test.xlsx'\n",
    "data = pd.ExcelFile(file)"
   ]
  },
  {
   "cell_type": "markdown",
   "metadata": {},
   "source": [
    "###### Extract sheets into separate DataFrames"
   ]
  },
  {
   "cell_type": "code",
   "execution_count": 3,
   "metadata": {},
   "outputs": [],
   "source": [
    "sheets = data.sheet_names\n",
    "#sheets"
   ]
  },
  {
   "cell_type": "code",
   "execution_count": 4,
   "metadata": {},
   "outputs": [],
   "source": [
    "chrono = data.parse(sheets[0])\n",
    "redata = data.parse(sheets[1])"
   ]
  },
  {
   "cell_type": "markdown",
   "metadata": {},
   "source": [
    "###### Look for missing data in rows and columns"
   ]
  },
  {
   "cell_type": "code",
   "execution_count": 5,
   "metadata": {},
   "outputs": [],
   "source": [
    "#Show missing entries\n",
    "def num_missing(x):\n",
    "  return sum(x.isnull())"
   ]
  },
  {
   "cell_type": "code",
   "execution_count": 6,
   "metadata": {},
   "outputs": [
    {
     "name": "stdout",
     "output_type": "stream",
     "text": [
      "Missing values per column:\n",
      "Well             0\n",
      "Period           0\n",
      "Top_depth_m      0\n",
      "Base_depth_m     0\n",
      "Thickness_m      0\n",
      "Top_age_Ma       0\n",
      "Bottom_age_Ma    0\n",
      "dtype: int64\n",
      "\n",
      "Missing values per row:\n",
      "0    0\n",
      "1    0\n",
      "2    0\n",
      "3    0\n",
      "4    0\n",
      "dtype: int64\n",
      "Missing values per column:\n",
      "Well                    0\n",
      "Depth m RKB             0\n",
      "Formation (NPD)         0\n",
      "Type of measurement     0\n",
      "samplith                0\n",
      "tmax                    7\n",
      "s1                      0\n",
      "s2                      0\n",
      "s3                     31\n",
      "toc                     0\n",
      "HI                      0\n",
      "pi                      0\n",
      "company_name            0\n",
      "dtype: int64\n",
      "\n",
      "Missing values per row:\n",
      "0    0\n",
      "1    0\n",
      "2    0\n",
      "3    0\n",
      "4    0\n",
      "dtype: int64\n"
     ]
    }
   ],
   "source": [
    "#Applying per column:\n",
    "print (\"Missing values per column:\")\n",
    "print (chrono.apply(num_missing, axis=0)) #axis=0 column\n",
    "\n",
    "#Applying per row:\n",
    "print (\"\\nMissing values per row:\")\n",
    "print (chrono.apply(num_missing, axis=1).head()) #axis=1 row\n",
    "\n",
    "#Applying per column:\n",
    "print (\"Missing values per column:\")\n",
    "print (redata.apply(num_missing, axis=0)) #axis=0 column\n",
    "\n",
    "#Applying per row:\n",
    "print (\"\\nMissing values per row:\")\n",
    "print (redata.apply(num_missing, axis=1).head()) #axis=1 row"
   ]
  },
  {
   "cell_type": "code",
   "execution_count": 7,
   "metadata": {},
   "outputs": [
    {
     "name": "stdout",
     "output_type": "stream",
     "text": [
      "(105, 7)\n",
      "(303, 13)\n"
     ]
    }
   ],
   "source": [
    "print(chrono.shape)\n",
    "print(redata.shape)"
   ]
  },
  {
   "cell_type": "markdown",
   "metadata": {},
   "source": [
    "###### Merge the two DataFrames"
   ]
  },
  {
   "cell_type": "code",
   "execution_count": 8,
   "metadata": {},
   "outputs": [],
   "source": [
    "merge = pd.merge(chrono,redata)"
   ]
  },
  {
   "cell_type": "code",
   "execution_count": 9,
   "metadata": {},
   "outputs": [
    {
     "data": {
      "text/plain": [
       "array(['6406/2-1', '6406/2-2', '6406/3-1'], dtype=object)"
      ]
     },
     "execution_count": 9,
     "metadata": {},
     "output_type": "execute_result"
    }
   ],
   "source": [
    "wells = redata['Well'].unique()\n",
    "wells"
   ]
  },
  {
   "cell_type": "code",
   "execution_count": 10,
   "metadata": {},
   "outputs": [
    {
     "data": {
      "text/plain": [
       "3"
      ]
     },
     "execution_count": 10,
     "metadata": {},
     "output_type": "execute_result"
    }
   ],
   "source": [
    "len(wells)"
   ]
  },
  {
   "cell_type": "code",
   "execution_count": 11,
   "metadata": {},
   "outputs": [
    {
     "name": "stdout",
     "output_type": "stream",
     "text": [
      "Number of rows of 6406/2-1 137\n",
      "Number of rows of 6406/2-2 83\n",
      "Number of rows of 6406/3-1 83\n",
      "Number of rows of 6406/2-1 39\n",
      "Number of rows of 6406/2-2 35\n",
      "Number of rows of 6406/3-1 31\n",
      "Number of rows of 6406/2-1 5343\n",
      "Number of rows of 6406/2-2 2905\n",
      "Number of rows of 6406/3-1 2573\n"
     ]
    }
   ],
   "source": [
    "for num in range(len(wells)):\n",
    "    print('Number of rows of', wells[num],  len(redata[ redata['Well']==wells[num]]))\n",
    "    \n",
    "for num in range(len(wells)):\n",
    "    print('Number of rows of', wells[num],  len(chrono[ chrono['Well']==wells[num]]))\n",
    "    \n",
    "for num in range(len(wells)):\n",
    "    print('Number of rows of', wells[num],  len(merge[ merge['Well']==wells[num]]))"
   ]
  },
  {
   "cell_type": "code",
   "execution_count": 12,
   "metadata": {},
   "outputs": [],
   "source": [
    "merge = merge [ (merge['Depth m RKB'] > merge['Top_depth_m']) & (merge['Depth m RKB'] <= merge['Base_depth_m']) ]"
   ]
  },
  {
   "cell_type": "code",
   "execution_count": 13,
   "metadata": {},
   "outputs": [],
   "source": [
    "merge.drop(['Top_depth_m', 'Base_depth_m', 'Thickness_m','Top_age_Ma', 'Bottom_age_Ma'], axis=1, inplace=True)"
   ]
  },
  {
   "cell_type": "code",
   "execution_count": 14,
   "metadata": {},
   "outputs": [],
   "source": [
    "merge.index = pd.RangeIndex(len(merge.index))"
   ]
  },
  {
   "cell_type": "code",
   "execution_count": 15,
   "metadata": {},
   "outputs": [],
   "source": [
    "with pd.ExcelWriter('combine.xlsx') as writer:  # doctest: +SKIP\n",
    "    merge.to_excel(writer, sheet_name='combined')"
   ]
  },
  {
   "cell_type": "code",
   "execution_count": null,
   "metadata": {},
   "outputs": [],
   "source": []
  }
 ],
 "metadata": {
  "kernelspec": {
   "display_name": "Python 3",
   "language": "python",
   "name": "python3"
  },
  "language_info": {
   "codemirror_mode": {
    "name": "ipython",
    "version": 3
   },
   "file_extension": ".py",
   "mimetype": "text/x-python",
   "name": "python",
   "nbconvert_exporter": "python",
   "pygments_lexer": "ipython3",
   "version": "3.6.5"
  }
 },
 "nbformat": 4,
 "nbformat_minor": 2
}
