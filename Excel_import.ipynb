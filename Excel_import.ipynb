{
 "cells": [
  {
   "cell_type": "markdown",
   "metadata": {
    "slideshow": {
     "slide_type": "slide"
    }
   },
   "source": [
    "# Combining two Excel sheets of data\n",
    "\n",
    "## Combining Chronostratigraphic data into hydrocarbon source well data"
   ]
  },
  {
   "cell_type": "markdown",
   "metadata": {},
   "source": [
    "#### Import modules and Excel file with multiple sheets"
   ]
  },
  {
   "cell_type": "code",
   "execution_count": 1,
   "metadata": {},
   "outputs": [],
   "source": [
    "import pandas as pd\n",
    "import numpy as np\n",
    "import matplotlib.pyplot as plt\n",
    "import seaborn as sns\n",
    "%matplotlib inline"
   ]
  },
  {
   "cell_type": "code",
   "execution_count": 2,
   "metadata": {},
   "outputs": [],
   "source": [
    "file = r'./data/BB_20190227_RE_data_chronostrat_combine_test.xlsx'"
   ]
  },
  {
   "cell_type": "code",
   "execution_count": 44,
   "metadata": {},
   "outputs": [],
   "source": [
    "def import_data(file):\n",
    "    \n",
    "    data = pd.ExcelFile(file)\n",
    "\n",
    "    # Create list of Excel sheet names\n",
    "    sheets = data.sheet_names\n",
    "                \n",
    "    # Extract each Excel sheet to a separate DataFrame\n",
    "    for i in range(len(sheets)):\n",
    "        sheets[i] = data.parse(sheets[i])\n",
    "        \n",
    "    return sheets[0], sheets[1]\n",
    "        "
   ]
  },
  {
   "cell_type": "code",
   "execution_count": 54,
   "metadata": {},
   "outputs": [],
   "source": [
    "data = pd.ExcelFile(file)\n",
    "\n",
    "sheets = data.sheet_names\n",
    "\n",
    "excel_dict = pd.read_excel(file, sheet_name=sheets)"
   ]
  },
  {
   "cell_type": "code",
   "execution_count": 57,
   "metadata": {},
   "outputs": [
    {
     "data": {
      "text/plain": [
       "odict_keys(['Chronostrat', 'RE data'])"
      ]
     },
     "execution_count": 57,
     "metadata": {},
     "output_type": "execute_result"
    }
   ],
   "source": [
    "excel_dict.keys()"
   ]
  },
  {
   "cell_type": "code",
   "execution_count": null,
   "metadata": {},
   "outputs": [],
   "source": []
  },
  {
   "cell_type": "markdown",
   "metadata": {},
   "source": [
    "#### Merge two datasets"
   ]
  },
  {
   "cell_type": "code",
   "execution_count": null,
   "metadata": {},
   "outputs": [],
   "source": [
    "def merge_data(data1, data2):\n",
    "    \n",
    "    merge = pd.merge(data1,data2)"
   ]
  },
  {
   "cell_type": "markdown",
   "metadata": {},
   "source": [
    "#### Cleanup"
   ]
  },
  {
   "cell_type": "code",
   "execution_count": null,
   "metadata": {},
   "outputs": [],
   "source": [
    "merge = merge [ (merge['Depth m RKB'] > merge['Top_depth_m']) & (merge['Depth m RKB'] <= merge['Base_depth_m']) ]\n",
    "\n",
    "merge.drop(['Top_depth_m', 'Base_depth_m', 'Thickness_m','Top_age_Ma', 'Bottom_age_Ma'], axis=1, inplace=True)\n",
    "\n",
    "merge.index = pd.RangeIndex(len(merge.index))"
   ]
  },
  {
   "cell_type": "code",
   "execution_count": null,
   "metadata": {},
   "outputs": [],
   "source": [
    "merge.sample(10).sort_index()"
   ]
  },
  {
   "cell_type": "markdown",
   "metadata": {},
   "source": [
    "for num in range(len(wells)):\n",
    "    print('Number of rows of', wells[num],  len(redata[ redata['Well']==wells[num]]))\n",
    "    \n",
    "for num in range(len(wells)):\n",
    "    print('Number of rows of', wells[num],  len(chrono[ chrono['Well']==wells[num]]))\n",
    "    \n",
    "for num in range(len(wells)):\n",
    "    print('Number of rows of', wells[num],  len(merge[ merge['Well']==wells[num]]))"
   ]
  },
  {
   "cell_type": "markdown",
   "metadata": {},
   "source": [
    "###### Look for missing data in rows and columns"
   ]
  },
  {
   "cell_type": "code",
   "execution_count": null,
   "metadata": {},
   "outputs": [],
   "source": [
    "#Show missing entries\n",
    "def num_missing(x):\n",
    "  return sum(x.isnull())"
   ]
  },
  {
   "cell_type": "code",
   "execution_count": null,
   "metadata": {},
   "outputs": [],
   "source": [
    "#Applying per column:\n",
    "print (\"Missing values per column:\")\n",
    "print (chrono.apply(num_missing, axis=0)) #axis=0 column\n",
    "\n",
    "#Applying per row:\n",
    "print (\"\\nMissing values per row:\")\n",
    "print (chrono.apply(num_missing, axis=1).head()) #axis=1 row\n",
    "\n",
    "#Applying per column:\n",
    "print (\"Missing values per column:\")\n",
    "print (redata.apply(num_missing, axis=0)) #axis=0 column\n",
    "\n",
    "#Applying per row:\n",
    "print (\"\\nMissing values per row:\")\n",
    "print (redata.apply(num_missing, axis=1).head()) #axis=1 row"
   ]
  },
  {
   "cell_type": "markdown",
   "metadata": {},
   "source": [
    "#### The redata has null values in the 'tmax' and 's3' columns"
   ]
  },
  {
   "cell_type": "markdown",
   "metadata": {},
   "source": [
    "#### Edit missing data"
   ]
  },
  {
   "cell_type": "code",
   "execution_count": null,
   "metadata": {},
   "outputs": [],
   "source": [
    "#null_data = df[df.isnull().any(axis=1)]"
   ]
  },
  {
   "cell_type": "code",
   "execution_count": null,
   "metadata": {},
   "outputs": [],
   "source": [
    "null_data = merge[np.logical_or.reduce(merge.isnull(), axis=1)]\n",
    "null_data.head(10)"
   ]
  },
  {
   "cell_type": "code",
   "execution_count": null,
   "metadata": {},
   "outputs": [],
   "source": [
    "merge.info()"
   ]
  },
  {
   "cell_type": "code",
   "execution_count": null,
   "metadata": {},
   "outputs": [],
   "source": [
    "tops=('Springar Fm', 'Nise Fm', 'Kvitnos Fm', 'Lysing Fm', 'Lange Fm', 'Spekk Fm', ',Melke Fm', 'Garn Fm')\n",
    "tops_depths=(2503, 2672, 2848, 3415, 3442, 4371, 4381, 4417)"
   ]
  },
  {
   "cell_type": "code",
   "execution_count": null,
   "metadata": {},
   "outputs": [],
   "source": [
    "f, ax = plt.subplots(figsize=(5,9))\n",
    "sns.scatterplot(y='Depth m RKB', x='s3', data=merge, hue='Well', size='tmax', alpha=0.7)\n",
    "\n",
    "ax.invert_yaxis()\n",
    "ax.grid(True)\n",
    "ax.set_title('s3', fontsize=16)\n",
    "\n",
    "plt.savefig('./images/s3_allwells',bbox_inches='tight')"
   ]
  },
  {
   "cell_type": "code",
   "execution_count": null,
   "metadata": {},
   "outputs": [],
   "source": [
    "fig, ax = plt.subplots(figsize=(5,9))\n",
    "\n",
    "ax.scatter(merge[ merge['Well'] == '6406/2-1']['s3'], \n",
    "           merge[ merge['Well'] == '6406/2-1']['Depth m RKB'], alpha=0.5)\n",
    "\n",
    "for (i,j) in zip(tops_depths,tops):\n",
    "            if ((i>=2500) and (i<=4500)):\n",
    "                ax.axhline(y=i, linewidth=0.5, color='black')\n",
    "                ax.text(0.1, i ,j, horizontalalignment='center',verticalalignment='center')\n",
    "\n",
    "ax.invert_yaxis()\n",
    "ax.set_xlabel('s3', fontsize=15)\n",
    "ax.set_ylabel('Depth', fontsize=15)\n",
    "ax.set_title('Original')\n",
    "ax.legend(['s3'])\n",
    "ax.grid(True)\n",
    "fig.tight_layout()"
   ]
  },
  {
   "cell_type": "code",
   "execution_count": null,
   "metadata": {},
   "outputs": [],
   "source": [
    "fig, ax = plt.subplots(figsize=(5,9))\n",
    "\n",
    "ax.plot(merge[ merge['Well'] == '6406/2-1']['s3'], merge[ merge['Well'] == '6406/2-1']['Depth m RKB'], alpha=0.5)\n",
    "\n",
    "for (i,j) in zip(tops_depths,tops):\n",
    "            if ((i>=2500) and (i<=4500)):\n",
    "                ax.axhline(y=i, linewidth=0.5, color='black')\n",
    "                ax.text(0.1, i ,j, horizontalalignment='center',verticalalignment='center')\n",
    "\n",
    "ax.invert_yaxis()\n",
    "ax.set_xlabel('s3', fontsize=15)\n",
    "ax.set_ylabel('Depth', fontsize=15)\n",
    "ax.set_title('Original')\n",
    "ax.legend(['s3'])\n",
    "ax.grid(True)\n",
    "fig.tight_layout()"
   ]
  },
  {
   "cell_type": "code",
   "execution_count": null,
   "metadata": {},
   "outputs": [],
   "source": [
    "#merge[ merge['Well'] == '6406/2-1']['s3'].plot()\n",
    "\n",
    "fig, ax = plt.subplots(figsize=(5,9))\n",
    "\n",
    "ax.scatter(merge[ merge['Well'] == '6406/2-1']['s1'], merge[ merge['Well'] == '6406/2-1']['Depth m RKB'], alpha=0.5)\n",
    "ax.scatter(merge[ merge['Well'] == '6406/2-1']['s2'], merge[ merge['Well'] == '6406/2-1']['Depth m RKB'], alpha=0.5)\n",
    "ax.scatter(merge[ merge['Well'] == '6406/2-1']['s3'], merge[ merge['Well'] == '6406/2-1']['Depth m RKB'], alpha=0.5)\n",
    "ax.scatter(merge[ merge['Well'] == '6406/2-1']['toc'], merge[ merge['Well'] == '6406/2-1']['Depth m RKB'], alpha=0.5)\n",
    "\n",
    "\n",
    "for (i,j) in zip(tops_depths,tops):\n",
    "            if ((i>=2500) and (i<=4500)):\n",
    "                ax.axhline(y=i, linewidth=0.5, color='black')\n",
    "                ax.text(0.1, i ,j, horizontalalignment='center',verticalalignment='center')\n",
    "\n",
    "\n",
    "ax.invert_yaxis()\n",
    "ax.set_xlabel('s1,s2,s3,toc', fontsize=15)\n",
    "ax.set_ylabel('Depth', fontsize=15)\n",
    "ax.set_title('6406/2-1', fontsize=16)\n",
    "ax.legend(['s1','s2','s3','toc'])\n",
    "ax.grid(True)\n",
    "fig.tight_layout()\n",
    "\n",
    "plt.savefig('./images/s1s2s3toc',bbox_inches='tight')"
   ]
  },
  {
   "cell_type": "code",
   "execution_count": null,
   "metadata": {},
   "outputs": [],
   "source": [
    "merge[ merge['Well'] == '6406/2-1']['s3'].plot()"
   ]
  },
  {
   "cell_type": "code",
   "execution_count": null,
   "metadata": {},
   "outputs": [],
   "source": [
    "merge['s3'] = merge.groupby(['Well','Period'])['s3'].transform(lambda x: x.fillna(x.median()))\n",
    "merge['tmax'] = merge.groupby(['Well','Period'])['tmax'].transform(lambda x: x.fillna(x.median()))"
   ]
  },
  {
   "cell_type": "code",
   "execution_count": null,
   "metadata": {},
   "outputs": [],
   "source": [
    "merge[ merge['Well'] == '6406/2-1']['s3'].plot()"
   ]
  },
  {
   "cell_type": "code",
   "execution_count": null,
   "metadata": {},
   "outputs": [],
   "source": [
    "fig, ax = plt.subplots(figsize=(5,9))\n",
    "\n",
    "ax.plot(merge[ merge['Well'] == '6406/2-1']['s3'], merge[ merge['Well'] == '6406/2-1']['Depth m RKB'], alpha=0.5)\n",
    "\n",
    "for (i,j) in zip(tops_depths,tops):\n",
    "            if ((i>=2500) and (i<=4500)):\n",
    "                ax.axhline(y=i, linewidth=0.5, color='black')\n",
    "                ax.text(0.1, i ,j, horizontalalignment='center',verticalalignment='center')\n",
    "\n",
    "ax.invert_yaxis()\n",
    "ax.set_xlabel('s3', fontsize=15)\n",
    "ax.set_ylabel('Depth', fontsize=15)\n",
    "ax.set_title('Original')\n",
    "ax.legend(['s3'])\n",
    "ax.grid(True)\n",
    "fig.tight_layout()"
   ]
  },
  {
   "cell_type": "code",
   "execution_count": null,
   "metadata": {},
   "outputs": [],
   "source": [
    "null_data = merge[np.logical_or.reduce(merge.isnull(), axis=1)]\n",
    "null_data"
   ]
  },
  {
   "cell_type": "code",
   "execution_count": null,
   "metadata": {},
   "outputs": [],
   "source": [
    "#Applying per column:\n",
    "print (\"Missing values per column:\")\n",
    "print (merge.apply(num_missing, axis=0)) #axis=0 column\n",
    "\n",
    "#Applying per row:\n",
    "print (\"\\nMissing values per row:\")\n",
    "print (merge.apply(num_missing, axis=1).head()) #axis=1 row"
   ]
  },
  {
   "cell_type": "code",
   "execution_count": null,
   "metadata": {},
   "outputs": [],
   "source": [
    "merge.dropna(inplace=True)"
   ]
  },
  {
   "cell_type": "code",
   "execution_count": null,
   "metadata": {},
   "outputs": [],
   "source": [
    "print(chrono.shape)\n",
    "print(redata.shape)"
   ]
  },
  {
   "cell_type": "code",
   "execution_count": null,
   "metadata": {},
   "outputs": [],
   "source": [
    "merge.describe()"
   ]
  },
  {
   "cell_type": "code",
   "execution_count": null,
   "metadata": {},
   "outputs": [],
   "source": [
    "#merge[ merge['Well'] == '6406/2-1']['s3'].plot()\n",
    "\n",
    "fig, ax = plt.subplots(figsize=(5,9))\n",
    "ax.scatter(merge[ merge['Well'] == '6406/2-1']['s3'], merge[ merge['Well'] == '6406/2-1']['Depth m RKB'], alpha=0.5)\n",
    "\n",
    "ax.invert_yaxis()\n",
    "ax.set_xlabel('s3', fontsize=15)\n",
    "ax.set_ylabel('Depth', fontsize=15)\n",
    "ax.set_title('Edited')\n",
    "\n",
    "ax.grid(True)\n",
    "fig.tight_layout()"
   ]
  },
  {
   "cell_type": "markdown",
   "metadata": {},
   "source": [
    "# BACKUP"
   ]
  },
  {
   "cell_type": "code",
   "execution_count": null,
   "metadata": {},
   "outputs": [],
   "source": [
    "sns.pairplot(merge[ merge['Well'] == '6406/2-1'])\n",
    "plt.savefig('./images/pair_plot',bbox_inches='tight')"
   ]
  },
  {
   "cell_type": "code",
   "execution_count": null,
   "metadata": {},
   "outputs": [],
   "source": [
    "Well21 = merge[ merge['Well'] == '6406/2-1']"
   ]
  },
  {
   "cell_type": "code",
   "execution_count": null,
   "metadata": {},
   "outputs": [],
   "source": [
    "def re_logs(top_depth, bottom_depth):\n",
    "    \n",
    "    #merge = merge[ merge['Well'] == '6406/2-1']\n",
    "    logs = Well21[ (Well21['Depth m RKB'] >= top_depth) & (Well21['Depth m RKB'] <= bottom_depth) ]\n",
    "    fig, ax = plt.subplots(nrows=1, ncols=7, figsize=(15,15), sharey=True)\n",
    "    fig.suptitle(\"6406/2-1\", fontsize=22)\n",
    "    fig.subplots_adjust(top=0.9,wspace=0.1)\n",
    "\n",
    "#General setting for all axis\n",
    "    for axes in ax:\n",
    "        axes.set_ylim (top_depth,bottom_depth)\n",
    "        axes.invert_yaxis()\n",
    "        axes.yaxis.grid(True)\n",
    "        axes.get_xaxis().set_visible(False) \n",
    "        for (i,j) in zip(tops_depths,tops):\n",
    "            if ((i>=top_depth) and (i<=bottom_depth)):\n",
    "                axes.axhline(y=i, linewidth=0.5, color='black')\n",
    "                axes.text(0.1, i ,j, horizontalalignment='center',verticalalignment='center')\n",
    "# 1st track: DT\n",
    "    \n",
    "    ax01=ax[0].twiny()\n",
    "    ax01.grid(True)\n",
    "    ax01.set_xlim(Well21['tmax'].min(), Well21['tmax'].max())\n",
    "    ax01.spines['top'].set_position(('outward',0))\n",
    "    ax01.set_xlabel('tmax')\n",
    "    ax01.scatter(logs['tmax'], logs['Depth m RKB'], label='tmax', color='blue')\n",
    "    ax01.set_xlabel('tmax', color='blue')    \n",
    "    ax01.tick_params(axis='x', colors='blue')\n",
    "\n",
    "# 2nd track: Velocity from sonic\n",
    "    \n",
    "    ax02=ax[1].twiny()\n",
    "    ax02.grid(True)\n",
    "    ax02.set_xlim(Well21['s1'].min(), Well21['s1'].max())\n",
    "    ax02.spines['top'].set_position(('outward',0))\n",
    "    ax02.set_xlabel('s1')\n",
    "    ax02.scatter(logs['s1'], logs['Depth m RKB'], label='s1', color='red')\n",
    "    ax02.set_xlabel('s1', color='red')    \n",
    "    ax02.tick_params(axis='x', colors='red')\n",
    "    \n",
    "# 3rd track: Checkshot\n",
    "    \n",
    "    ax03=ax[2].twiny()\n",
    "    ax03.grid(True)\n",
    "    ax03.set_xlim(Well21['s2'].min(), Well21['s2'].max())\n",
    "    ax03.spines['top'].set_position(('outward',0))\n",
    "    ax03.set_xlabel('s2')\n",
    "    ax03.scatter(logs['s2'], logs['Depth m RKB'], label='s2', color='green', marker='o')\n",
    "    ax03.set_xlabel('s2', color='green')    \n",
    "    ax03.tick_params(axis='x', colors='green')\n",
    "    \n",
    "# 4th track: TDR calibrated synthetic interval velocity\n",
    "    \n",
    "    ax04=ax[3].twiny()\n",
    "    ax04.grid(True)\n",
    "    ax04.set_xlim(Well21['s3'].min(), Well21['s3'].max())\n",
    "    ax04.spines['top'].set_position(('outward',0))\n",
    "    ax04.set_xlabel('s3')\n",
    "    ax04.scatter(logs['s3'], logs['Depth m RKB'], label='s3', color='orange')\n",
    "    ax04.set_xlabel('s3', color='orange')    \n",
    "    ax04.tick_params(axis='x', colors='orange')\n",
    "    \n",
    "# 5th track: TDR calibrated synthetic interval velocity\n",
    "    \n",
    "    ax05=ax[4].twiny()\n",
    "    ax05.grid(True)\n",
    "    ax05.set_xlim(Well21['toc'].min(), Well21['toc'].max())\n",
    "    ax05.spines['top'].set_position(('outward',0))\n",
    "    ax05.set_xlabel('toc')\n",
    "    ax05.scatter(logs['toc'], logs['Depth m RKB'], label='toc', color='black')\n",
    "    ax05.set_xlabel('toc', color='black')    \n",
    "    ax05.tick_params(axis='x', colors='black')\n",
    "\n",
    "# 6th track: TDR calibrated synthetic interval velocity\n",
    "    \n",
    "    ax06=ax[5].twiny()\n",
    "    ax06.grid(True)\n",
    "    ax06.set_xlim(Well21['HI'].min(), Well21['HI'].max())\n",
    "    ax06.spines['top'].set_position(('outward',0))\n",
    "    ax06.set_xlabel('HI')\n",
    "    ax06.scatter(logs['HI'], logs['Depth m RKB'], label='HI', color='purple')\n",
    "    ax06.set_xlabel('HI', color='purple')    \n",
    "    ax06.tick_params(axis='x', colors='purple')\n",
    "    \n",
    "# 7th track: TDR calibrated synthetic interval velocity\n",
    "    \n",
    "    ax07=ax[6].twiny()\n",
    "    ax07.grid(True)\n",
    "    ax07.set_xlim(Well21['pi'].min(), Well21['pi'].max())\n",
    "    ax07.spines['top'].set_position(('outward',0))\n",
    "    ax07.set_xlabel('pi')\n",
    "    ax07.scatter(logs['pi'], logs['Depth m RKB'], label='pi', color='brown')\n",
    "    ax07.set_xlabel('pi', color='brown')    \n",
    "    ax07.tick_params(axis='x', colors='brown')"
   ]
  },
  {
   "cell_type": "code",
   "execution_count": null,
   "metadata": {},
   "outputs": [],
   "source": [
    "re_logs(Well21['Depth m RKB'].min(), Well21['Depth m RKB'].max())\n",
    "plt.savefig('./images/log_plot',bbox_inches='tight')"
   ]
  },
  {
   "cell_type": "code",
   "execution_count": null,
   "metadata": {
    "scrolled": false
   },
   "outputs": [],
   "source": [
    "merge.groupby(['Well','Period'])['tmax','s1','s2','s3','toc','HI','pi'].mean()"
   ]
  },
  {
   "cell_type": "code",
   "execution_count": null,
   "metadata": {},
   "outputs": [],
   "source": [
    "merge.groupby(['Period','Well'])['tmax','s1','s2','s3','toc','HI','pi'].mean()"
   ]
  },
  {
   "cell_type": "code",
   "execution_count": null,
   "metadata": {},
   "outputs": [],
   "source": [
    "sns.jointplot(y='s2', x='s1', data=Well21, kind='reg', xlim=(0,3), ylim=(0,6))\n",
    "plt.savefig('./images/jointplot-scatter',bbox_inches='tight')"
   ]
  },
  {
   "cell_type": "code",
   "execution_count": null,
   "metadata": {},
   "outputs": [],
   "source": [
    "ax = sns.scatterplot(y='s3', x='s1', data=merge, hue='Well', style='Well', size='HI', sizes=(20,200))\n",
    "plt.savefig('./images/scatterplot-bywell',bbox_inches='tight')"
   ]
  },
  {
   "cell_type": "code",
   "execution_count": null,
   "metadata": {},
   "outputs": [],
   "source": [
    "sns.set(style=\"white\", palette=\"muted\", color_codes=True)\n",
    "f, axes = plt.subplots(1, 7, figsize=(20, 4))\n",
    "\n",
    "# Plot a simple histogram with binsize determined automatically\n",
    "sns.distplot(merge[ merge['Period'] == 'CENOMANIAN']['tmax'], kde=False, color=\"b\", ax=axes[0])\n",
    "sns.distplot(merge[ merge['Period'] == 'CENOMANIAN']['s1'], kde=True, color=\"r\", ax=axes[1])\n",
    "sns.distplot(merge[ merge['Period'] == 'CENOMANIAN']['s2'], hist=False, kde=True, rug=True, color=\"b\", ax=axes[2])\n",
    "sns.distplot(merge[ merge['Period'] == 'CENOMANIAN']['s3'], kde=False, color=\"b\", ax=axes[3])\n",
    "sns.distplot(merge[ merge['Period'] == 'CENOMANIAN']['toc'], kde=False, rug=True, color=\"g\", ax=axes[4])\n",
    "sns.distplot(merge[ merge['Period'] == 'CENOMANIAN']['HI'], hist=False, kde=True, rug=True, kde_kws={\"shade\": True}, color=\"m\", ax=axes[5])\n",
    "sns.distplot(merge[ merge['Period'] == 'CENOMANIAN']['pi'], kde=False, color=\"b\", ax=axes[6])\n",
    "\n"
   ]
  },
  {
   "cell_type": "code",
   "execution_count": null,
   "metadata": {},
   "outputs": [],
   "source": [
    "sns.relplot(y='Depth m RKB', x='s3', data=merge[merge['Well']=='6406/2-1'], hue='Period', size='HI',sizes=(20,200), alpha=0.7)"
   ]
  },
  {
   "cell_type": "code",
   "execution_count": null,
   "metadata": {},
   "outputs": [],
   "source": [
    "merge[ (merge['Well']=='6406/2-1') & (merge['Period']=='LOWER TURONIAN')]['s3'].plot(kind='hist')"
   ]
  },
  {
   "cell_type": "code",
   "execution_count": null,
   "metadata": {},
   "outputs": [],
   "source": []
  },
  {
   "cell_type": "code",
   "execution_count": null,
   "metadata": {},
   "outputs": [],
   "source": []
  },
  {
   "cell_type": "code",
   "execution_count": null,
   "metadata": {},
   "outputs": [],
   "source": []
  },
  {
   "cell_type": "code",
   "execution_count": null,
   "metadata": {},
   "outputs": [],
   "source": []
  },
  {
   "cell_type": "code",
   "execution_count": null,
   "metadata": {},
   "outputs": [],
   "source": []
  },
  {
   "cell_type": "code",
   "execution_count": null,
   "metadata": {},
   "outputs": [],
   "source": []
  },
  {
   "cell_type": "code",
   "execution_count": null,
   "metadata": {},
   "outputs": [],
   "source": []
  }
 ],
 "metadata": {
  "kernelspec": {
   "display_name": "Python 3",
   "language": "python",
   "name": "python3"
  },
  "language_info": {
   "codemirror_mode": {
    "name": "ipython",
    "version": 3
   },
   "file_extension": ".py",
   "mimetype": "text/x-python",
   "name": "python",
   "nbconvert_exporter": "python",
   "pygments_lexer": "ipython3",
   "version": "3.6.5"
  }
 },
 "nbformat": 4,
 "nbformat_minor": 2
}
